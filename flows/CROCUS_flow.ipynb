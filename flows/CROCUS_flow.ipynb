{
 "cells": [
  {
   "cell_type": "code",
   "execution_count": null,
   "id": "12d19eca-a6f7-428f-8b53-259106d91fe1",
   "metadata": {
    "tags": []
   },
   "outputs": [],
   "source": [
    "import time\n",
    "import json\n",
    "import datetime\n",
    "import globus_sdk\n",
    "\n",
    "from globus_sdk import TimerJob\n",
    "from globus_compute_sdk import Executor\n",
    "from globus_sdk.experimental.globus_app import UserApp\n",
    "\n",
    "from globus_sdk.utils import slash_join"
   ]
  },
  {
   "cell_type": "code",
   "execution_count": null,
   "id": "5126f5db-60ae-4d4a-aaf4-67848106b4d0",
   "metadata": {
    "tags": []
   },
   "outputs": [],
   "source": [
    "CLIENT_ID = \"c781864e-a9c9-482e-8db8-d58ac5962a86\"\n",
    "my_app = UserApp(\"crocus-user-app\", client_id=CLIENT_ID)\n",
    "\n",
    "flows_client = globus_sdk.FlowsClient(app=my_app)"
   ]
  },
  {
   "cell_type": "code",
   "execution_count": null,
   "id": "6a2667f1-b814-49c4-bbf0-91f54a3671d3",
   "metadata": {
    "tags": []
   },
   "outputs": [],
   "source": [
    "compute_endpoint = \"a8ef913f-dea0-486b-b2a9-4220a9549274\""
   ]
  },
  {
   "cell_type": "code",
   "execution_count": null,
   "id": "3150cc8a-d651-4165-bfb5-ec1ba7e10142",
   "metadata": {
    "tags": []
   },
   "outputs": [],
   "source": [
    "wxt_function = \"166e572b-bbd0-4590-bb71-abad9503426a\""
   ]
  },
  {
   "cell_type": "code",
   "execution_count": null,
   "id": "587b1f64-7807-45c2-998c-ff4d26c7a4ff",
   "metadata": {
    "tags": []
   },
   "outputs": [],
   "source": [
    "gce = Executor(endpoint_id=compute_endpoint)"
   ]
  },
  {
   "cell_type": "code",
   "execution_count": null,
   "id": "140677f0-1542-4d6a-859b-b4bef2b093e2",
   "metadata": {
    "tags": []
   },
   "outputs": [],
   "source": [
    "# Prepare payload for ESGF ingest-wxt\n",
    "wxt_data = {\n",
    "    \"ndays\": 1,\n",
    "    \"y\": 2024,\n",
    "    \"m\": 8,\n",
    "    \"d\": 2,\n",
    "    \"site\": 'NU',\n",
    "    \"hours\": 1,\n",
    "    \"odir\": \"/Users/mgrover/git_repos/esgf-crocus-globus-flows\"\n",
    "}\n",
    "\n",
    "# Start the task\n",
    "future = gce.submit_to_registered_function(wxt_function, kwargs=wxt_data)"
   ]
  },
  {
   "cell_type": "code",
   "execution_count": null,
   "id": "ae8163ce-0adb-434d-afd2-f23fc2051e89",
   "metadata": {
    "tags": []
   },
   "outputs": [],
   "source": [
    "# Wait and print the result\n",
    "result = future.result()\n",
    "print(result)"
   ]
  },
  {
   "cell_type": "code",
   "execution_count": null,
   "id": "b7c5e0f6-eae8-4a47-86d9-4394a25b180b",
   "metadata": {
    "tags": []
   },
   "outputs": [],
   "source": [
    "flow_definition = {\n",
    "    \"Comment\": \"A CROCUS WXT flow\",\n",
    "    \"StartAt\": \"TransferInput\",\n",
    "    \"States\": {\n",
    "        \"TransferInput\": {\n",
    "            \"Comment\": \"Transfer input data\",\n",
    "            \"Type\": \"Action\",\n",
    "            \"ActionUrl\": \"https://transfer.actions.globus.org/transfer\",\n",
    "            \"Parameters\": {\n",
    "                \"source_endpoint.$\": \"$.input.source.id\",\n",
    "                \"destination_endpoint.$\": \"$.input.destination.id\",\n",
    "                \"DATA\": [\n",
    "                    {\n",
    "                        \"source_path.$\": \"$.input.source.path\",\n",
    "                        \"destination_path.$\": \"$.input.destination.path\",\n",
    "                        \"recursive\": True,\n",
    "                    }\n",
    "                ]\n",
    "            },\n",
    "            \"ResultPath\": \"$.TransferFiles\",\n",
    "            \"WaitTime\": 300,\n",
    "            \"Next\": \"ProcessWXT\"\n",
    "        },\n",
    "        \"ProcessWXT\": {\n",
    "            \"Comment\": \"Collect WXT data from Sage\",\n",
    "            \"Type\": \"Action\",\n",
    "            \"ActionUrl\": \"https://compute.actions.globus.org/\",\n",
    "            \"Parameters\": {\n",
    "                \"endpoint.$\": \"$.input.compute_endpoint\",\n",
    "                \"function.$\": \"$.input.wxt_function\",\n",
    "                \"kwargs.$\": \"$.input.wxt_kwargs\"\n",
    "            },\n",
    "            \"ResultPath\": \"$.CROCUS_output\",\n",
    "            \"WaitTime\": 600,\n",
    "            \"End\": True\n",
    "        },\n",
    "    }\n",
    "}"
   ]
  },
  {
   "cell_type": "code",
   "execution_count": null,
   "id": "8d6de2bd-3302-4802-9d4e-c3685010d8f1",
   "metadata": {
    "scrolled": true,
    "tags": []
   },
   "outputs": [],
   "source": [
    "flow = flows_client.create_flow(title=\"CROCUS Flow\", definition=flow_definition, input_schema={})\n",
    "# flow = flows_client.update_flow(flow_id=flow_id, title=\"CROCUS Flow\", definition=flow_definition, input_schema={})"
   ]
  },
  {
   "cell_type": "code",
   "execution_count": null,
   "id": "1d3eca30-ab8b-4952-8946-b6af3b0e30ff",
   "metadata": {
    "tags": []
   },
   "outputs": [],
   "source": [
    "flow_input = {\n",
    "    \"input\": {\n",
    "        \"source\": {\n",
    "            \"id\": \"03e6a23b-fb93-11ef-985b-0207be7ee3a1\",\n",
    "            \"path\": \"/Users/mgrover/git_repos/esgf-crocus-globus-flows/flows\"\n",
    "        },\n",
    "        \"destination\": {\n",
    "            \"id\": \"03e6a23b-fb93-11ef-985b-0207be7ee3a1\",\n",
    "            \"path\": \"/Users/mgrover/git_repos/esgf-crocus-globus-flows/\"\n",
    "        },\n",
    "        \"compute_endpoint\": compute_endpoint,\n",
    "        \"wxt_kwargs\": wxt_data,\n",
    "        \"wxt_function\": wxt_function,\n",
    "    }\n",
    "}"
   ]
  },
  {
   "cell_type": "code",
   "execution_count": null,
   "id": "7c882953-2c9d-43d8-b505-628527794328",
   "metadata": {
    "tags": []
   },
   "outputs": [],
   "source": [
    "flow_id = flow['id']\n",
    "flow_id"
   ]
  },
  {
   "cell_type": "code",
   "execution_count": null,
   "id": "79b01f90-2569-4eac-b6a7-3391fe4d1212",
   "metadata": {
    "tags": []
   },
   "outputs": [],
   "source": [
    "specific_flow_client = globus_sdk.SpecificFlowClient(\n",
    "    flow_id=flow_id,\n",
    "    app=my_app,\n",
    ")"
   ]
  },
  {
   "cell_type": "code",
   "execution_count": null,
   "id": "6b821590-0b5b-43ec-aa4d-e4452e49aa20",
   "metadata": {
    "tags": []
   },
   "outputs": [],
   "source": [
    "run = specific_flow_client.run_flow(\n",
    "  body=flow_input,\n",
    "  label=\"CROCUS Example\",\n",
    "  tags=['CROCUS', 'example']\n",
    ")"
   ]
  },
  {
   "cell_type": "code",
   "execution_count": null,
   "id": "5be02bf2-7eaa-424f-8bd2-ebfd77b985e8",
   "metadata": {
    "tags": []
   },
   "outputs": [],
   "source": [
    "# Get run details\n",
    "# run = flows_client.get_run(run_id)\n",
    "\n",
    "run_id = run['run_id']\n",
    "run_status = run['status']\n",
    "print(\"This flow can be monitored in the Web App:\")\n",
    "print(f\"https://app.globus.org/runs/{run_id}\")\n",
    "print(f\"Flow run started with ID: {run_id} - Status: {run_status}\")\n",
    "\n",
    "# Poll the Flow service to check on the status of the flow\n",
    "while run_status == 'ACTIVE':\n",
    "    time.sleep(5)\n",
    "    run = flows_client.get_run(run_id)\n",
    "    run_status = run['status']\n",
    "    print(f'Run status: {run_status}')\n",
    "    \n",
    "# Run completed\n",
    "print(json.dumps(run.data, indent=2))"
   ]
  },
  {
   "cell_type": "markdown",
   "id": "8f3c1b4d-af1f-454a-9d69-71b7a4f08503",
   "metadata": {},
   "source": [
    "# Add an input schema\n",
    "\n",
    "This gives us the \"Start\" button on the flows GUI."
   ]
  },
  {
   "cell_type": "code",
   "execution_count": null,
   "id": "11cc6f3c-1c80-4303-9119-07f9b46a0ff9",
   "metadata": {
    "tags": []
   },
   "outputs": [],
   "source": [
    "input_schema = {\n",
    "    \"required\": [\n",
    "        \"input\"\n",
    "    ],\n",
    "    \"properties\": {\n",
    "        \"input\": {\n",
    "            \"type\": \"object\",\n",
    "            \"required\": [\n",
    "                \"source\",\n",
    "                \"destination\",\n",
    "                \"compute_endpoint\",\n",
    "                \"wxt_function\",\n",
    "                \"wxt_kwargs\"\n",
    "            ],\n",
    "            \"properties\": {\n",
    "                \"source\": {\n",
    "                    \"type\": \"object\",\n",
    "                    \"title\": \"Select source collection and path\",\n",
    "                    \"description\": \"The source collection and path (path MUST end with a slash)\",\n",
    "                    \"format\": \"globus-collection\",\n",
    "                    \"required\": [\n",
    "                        \"id\",\n",
    "                        \"path\"\n",
    "                    ],\n",
    "                    \"properties\": {\n",
    "                        \"id\": {\n",
    "                            \"type\": \"string\",\n",
    "                            \"format\": \"uuid\"\n",
    "                        },\n",
    "                        \"path\": {\n",
    "                            \"type\": \"string\"\n",
    "                        }\n",
    "                    },\n",
    "                    \"additionalProperties\": False\n",
    "                },\n",
    "                \"destination\": {\n",
    "                    \"type\": \"object\",\n",
    "                    \"title\": \"Select destination collection and path\",\n",
    "                    \"description\": \"The destination collection and path (path MUST end with a slash); default collection is 'Globus Tutorials on ALCF Eagle'\",\n",
    "                    \"format\": \"globus-collection\",\n",
    "                    \"required\": [\n",
    "                        \"id\",\n",
    "                        \"path\"\n",
    "                    ],\n",
    "                    \"properties\": {\n",
    "                        \"id\": {\n",
    "                            \"type\": \"string\",\n",
    "                            \"format\": \"uuid\"\n",
    "                        },\n",
    "                        \"path\": {\n",
    "                            \"type\": \"string\"\n",
    "                        }\n",
    "                    },\n",
    "                    \"additionalProperties\": False\n",
    "                },\n",
    "                \"compute_endpoint\": {\n",
    "                    \"type\": \"string\",\n",
    "                    \"format\": \"uuid\",\n",
    "                    \"default\": compute_endpoint,\n",
    "                    \"title\": \"Globus Compute Endpoint ID\",\n",
    "                    \"description\": \"The UUID of the Globus Compute endpoint where the function will run\"\n",
    "                },\n",
    "                \"wxt_function\": {\n",
    "                    \"type\": \"string\",\n",
    "                    \"format\": \"uuid\",\n",
    "                    \"default\": wxt_function,\n",
    "                    \"title\": \"Globus Compute Function ID\",\n",
    "                    \"description\": \"The UUID of the function to invoke; must be registered with the Globus Compute service\"\n",
    "                },\n",
    "                \"wxt_kwargs\": {\n",
    "                    \"type\": \"object\",\n",
    "                    \"title\": \"Function Inputs\",\n",
    "                    \"description\": \"Inputs to pass to the function\",\n",
    "                    \"properties\":  {\n",
    "                        \"ndays\": {\n",
    "                            \"type\": \"integer\",\n",
    "                            \"default\": 1\n",
    "                        },\n",
    "                        \"y\": {\n",
    "                            \"type\": \"integer\",\n",
    "                            \"default\": 2024\n",
    "                        },\n",
    "                        \"m\": {\n",
    "                            \"type\": \"integer\",\n",
    "                            \"default\": 8\n",
    "                        },\n",
    "                        \"d\": {\n",
    "                            \"type\": \"integer\",\n",
    "                            \"default\": 1\n",
    "                        },\n",
    "                        \"site\": {\n",
    "                            \"type\": \"string\",\n",
    "                            \"default\": \"NU\"\n",
    "                        },\n",
    "                        \"hours\": {\n",
    "                            \"type\": \"integer\",\n",
    "                            \"default\": 1\n",
    "                        },\n",
    "                        \"odir\": {\n",
    "                            \"type\": \"string\",\n",
    "                            \"default\": \"/home/rchard/src/CROCUS/output/\"\n",
    "                        },\n",
    "                    },\n",
    "                    \"additionalProperties\": False\n",
    "                }\n",
    "            },\n",
    "            \"additionalProperties\": False\n",
    "        }\n",
    "    },\n",
    "    \"additionalProperties\": False\n",
    "}"
   ]
  },
  {
   "cell_type": "code",
   "execution_count": null,
   "id": "977f2ab3-6343-4c4c-a5ab-3cc9c73cc429",
   "metadata": {
    "tags": []
   },
   "outputs": [],
   "source": [
    "flow = flows_client.update_flow(flow_id=flow_id, title=\"CROCUS Flow\", definition=flow_definition, input_schema=input_schema)"
   ]
  },
  {
   "cell_type": "markdown",
   "id": "6697cb73-8a5e-4663-b904-be111249516c",
   "metadata": {},
   "source": [
    "# Configure a Timer\n",
    "\n",
    "This will automate the invocation of the flow each day."
   ]
  },
  {
   "cell_type": "code",
   "execution_count": null,
   "id": "4f2735f8-6902-4a2a-877d-6879dc3a2bec",
   "metadata": {
    "tags": []
   },
   "outputs": [],
   "source": [
    "from globus_sdk.scopes import TimerScopes, FlowsScopes\n",
    "from globus_sdk import TimerClient"
   ]
  },
  {
   "cell_type": "code",
   "execution_count": null,
   "id": "d4e2bca0-b2b5-44ce-aa18-1a66c4088e1b",
   "metadata": {
    "tags": []
   },
   "outputs": [],
   "source": [
    "flow_scope = specific_flow_client.scopes.user\n",
    "end_scope = f\"{TimerScopes.timer}[{flow_scope}]\"\n",
    "\n",
    "timer_client = TimerClient(app=my_app, app_scopes=end_scope)"
   ]
  },
  {
   "cell_type": "code",
   "execution_count": null,
   "id": "31180635-e2a8-4e17-897b-828cdf9a68de",
   "metadata": {
    "tags": []
   },
   "outputs": [],
   "source": [
    "callback_url = slash_join(specific_flow_client.base_url, f\"/flows/{flow_id}/run\")"
   ]
  },
  {
   "cell_type": "markdown",
   "id": "1564e457-c1c1-4163-b995-ac87ccb9183c",
   "metadata": {},
   "source": [
    "Remove the Y/M/D fields so the flow runs for the current date."
   ]
  },
  {
   "cell_type": "code",
   "execution_count": null,
   "id": "e4503931-bb1b-4f3a-9d2e-2869ffc62232",
   "metadata": {
    "tags": []
   },
   "outputs": [],
   "source": [
    "timer_input = {\n",
    "    'input': {\n",
    "        'source': \n",
    "        {\n",
    "            'id': '6c54cade-bde5-45c1-bdea-f4bd71dba2cc',\n",
    "            'path': '/home/share/godata/'\n",
    "        },\n",
    "        'destination': {\n",
    "            'id': '31ce9ba0-176d-45a5-add3-f37d233ba47d',\n",
    "            'path': '/~/test/'\n",
    "        },\n",
    "        'compute_endpoint': 'a93bab84-bc75-43a0-8ab9-ba7a41a1a2d4',\n",
    "        'wxt_kwargs': {\n",
    "            'ndays': 1,\n",
    "            'site': 'NU',\n",
    "            'hours': 1,\n",
    "            'odir': '/home/rchard/src/CROCUS/output/'\n",
    "        },\n",
    "        'wxt_function': 'd78ce48d-614a-4c77-add7-1c0e25c3472d'\n",
    "    }\n",
    "}"
   ]
  },
  {
   "cell_type": "code",
   "execution_count": null,
   "id": "d1374f46-e15d-44a9-80a3-a52b5e529322",
   "metadata": {
    "tags": []
   },
   "outputs": [],
   "source": [
    "timer = TimerJob(\n",
    "    callback_url=callback_url,\n",
    "    callback_body={\"body\": flow_input, \"label\": \"CROCUS Timer Flow\"},\n",
    "    start=datetime.datetime.utcnow(),\n",
    "    interval=datetime.timedelta(seconds=300),\n",
    "    scope=flow_scope,\n",
    "    name=\"CROCUS Flow Timer\",\n",
    ")"
   ]
  },
  {
   "cell_type": "code",
   "execution_count": null,
   "id": "bcfcd69a-7ce1-4a36-8205-9bc285ec2696",
   "metadata": {
    "tags": []
   },
   "outputs": [],
   "source": [
    "response = timer_client.create_job(timer)"
   ]
  },
  {
   "cell_type": "code",
   "execution_count": null,
   "id": "59842ea9-0716-49ed-9d67-470e84e9aeec",
   "metadata": {
    "tags": []
   },
   "outputs": [],
   "source": [
    "response"
   ]
  },
  {
   "cell_type": "code",
   "execution_count": null,
   "id": "fdba5e40-b914-43b8-b026-7f98f3af1660",
   "metadata": {
    "tags": []
   },
   "outputs": [],
   "source": [
    "timer_client.get_job(response.get('job_id')).data"
   ]
  },
  {
   "cell_type": "markdown",
   "id": "de3ba71f-bb21-4c89-879c-19dd9a7e687e",
   "metadata": {},
   "source": [
    "## Delete the timer"
   ]
  },
  {
   "cell_type": "code",
   "execution_count": null,
   "id": "9205307c-a9b6-4c4c-ad15-0d45752c4080",
   "metadata": {},
   "outputs": [],
   "source": [
    "timer_client.delete_job(response.get('job_id'))"
   ]
  }
 ],
 "metadata": {
  "kernelspec": {
   "display_name": "Python 3 (ipykernel)",
   "language": "python",
   "name": "python3"
  },
  "language_info": {
   "codemirror_mode": {
    "name": "ipython",
    "version": 3
   },
   "file_extension": ".py",
   "mimetype": "text/x-python",
   "name": "python",
   "nbconvert_exporter": "python",
   "pygments_lexer": "ipython3",
   "version": "3.10.16"
  }
 },
 "nbformat": 4,
 "nbformat_minor": 5
}
