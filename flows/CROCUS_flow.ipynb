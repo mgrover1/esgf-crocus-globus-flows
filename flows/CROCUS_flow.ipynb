{
 "cells": [
  {
   "cell_type": "code",
   "execution_count": 1,
   "id": "12d19eca-a6f7-428f-8b53-259106d91fe1",
   "metadata": {
    "tags": []
   },
   "outputs": [],
   "source": [
    "import time\n",
    "import json\n",
    "import datetime\n",
    "import globus_sdk\n",
    "\n",
    "from globus_sdk import TimerJob\n",
    "from globus_compute_sdk import Executor\n",
    "from globus_sdk.experimental.globus_app import UserApp\n",
    "\n",
    "from globus_sdk.utils import slash_join"
   ]
  },
  {
   "cell_type": "code",
   "execution_count": 2,
   "id": "5126f5db-60ae-4d4a-aaf4-67848106b4d0",
   "metadata": {
    "tags": []
   },
   "outputs": [],
   "source": [
    "CLIENT_ID = \"c781864e-a9c9-482e-8db8-d58ac5962a86\"\n",
    "my_app = UserApp(\"crocus-user-app\", client_id=CLIENT_ID)\n",
    "\n",
    "flows_client = globus_sdk.FlowsClient(app=my_app)"
   ]
  },
  {
   "cell_type": "code",
   "execution_count": 3,
   "id": "6a2667f1-b814-49c4-bbf0-91f54a3671d3",
   "metadata": {
    "tags": []
   },
   "outputs": [],
   "source": [
    "compute_endpoint = \"04551444-f53f-4629-ab58-fdfcad88ce93\""
   ]
  },
  {
   "cell_type": "code",
   "execution_count": 4,
   "id": "3150cc8a-d651-4165-bfb5-ec1ba7e10142",
   "metadata": {
    "tags": []
   },
   "outputs": [],
   "source": [
    "wxt_function = \"b4930dc7-6c35-4cdc-910d-82765073b706\"\n",
    "aqt_function = \"1c4aea51-52a0-4235-a5d2-cff872abc001\""
   ]
  },
  {
   "cell_type": "code",
   "execution_count": 5,
   "id": "587b1f64-7807-45c2-998c-ff4d26c7a4ff",
   "metadata": {
    "tags": []
   },
   "outputs": [],
   "source": [
    "gce = Executor(endpoint_id=compute_endpoint)"
   ]
  },
  {
   "cell_type": "markdown",
   "id": "2e47040a-0d13-4aa9-97f1-739eb593f87f",
   "metadata": {},
   "source": [
    "## Test the WXT and AQT Plugins"
   ]
  },
  {
   "cell_type": "code",
   "execution_count": 6,
   "id": "140677f0-1542-4d6a-859b-b4bef2b093e2",
   "metadata": {
    "tags": []
   },
   "outputs": [],
   "source": [
    "# Prepare payload for ESGF ingest-wxt\n",
    "wxt_data = {\n",
    "    \"ndays\": 1,\n",
    "    \"y\": 2024,\n",
    "    \"m\": 8,\n",
    "    \"d\": 2,\n",
    "    \"site\": 'NEIU',\n",
    "    \"hours\": 1,\n",
    "    \"odir\": \"/Users/mgrover/git_repos/esgf-crocus-globus-flows/data/NEIU/wxt\"\n",
    "}\n",
    "\n",
    "# Start the task\n",
    "future = gce.submit_to_registered_function(wxt_function, kwargs=wxt_data)"
   ]
  },
  {
   "cell_type": "code",
   "execution_count": 7,
   "id": "ae8163ce-0adb-434d-afd2-f23fc2051e89",
   "metadata": {
    "tags": []
   },
   "outputs": [
    {
     "name": "stdout",
     "output_type": "stream",
     "text": [
      "['/Users/mgrover/git_repos/esgf-crocus-globus-flows/data/NEIU/wxt/crocus-NEIU-wxt-a1_20240802_000000.nc']\n"
     ]
    }
   ],
   "source": [
    "# Wait and print the result\n",
    "result = future.result()\n",
    "print(result)"
   ]
  },
  {
   "cell_type": "code",
   "execution_count": 8,
   "id": "b0a2b5e5-155d-4926-8cf5-24f09ada3735",
   "metadata": {
    "tags": []
   },
   "outputs": [
    {
     "name": "stdout",
     "output_type": "stream",
     "text": [
      "['/Users/mgrover/git_repos/esgf-crocus-globus-flows/data/NEIU/aqt/crocus-NEIU-aqt-a1-20240802-000000.nc']\n"
     ]
    }
   ],
   "source": [
    "# Prepare payload for ESGF ingest-aqt\n",
    "aqt_data = {\n",
    "    \"ndays\": 1,\n",
    "    \"y\": 2024,\n",
    "    \"m\": 8,\n",
    "    \"d\": 2,\n",
    "    \"site\": 'NEIU',\n",
    "    \"hours\": 1,\n",
    "    \"odir\": \"/Users/mgrover/git_repos/esgf-crocus-globus-flows/data/NEIU/aqt\"\n",
    "}\n",
    "\n",
    "# Start the task\n",
    "future = gce.submit_to_registered_function(aqt_function, kwargs=aqt_data)\n",
    "\n",
    "# Wait and print the result\n",
    "result = future.result()\n",
    "print(result)"
   ]
  },
  {
   "cell_type": "code",
   "execution_count": 9,
   "id": "b7c5e0f6-eae8-4a47-86d9-4394a25b180b",
   "metadata": {
    "tags": []
   },
   "outputs": [],
   "source": [
    "flow_definition = {\n",
    "    \"Comment\": \"A Node-Level Processing Workflow for WXT and AQT\",\n",
    "    \"StartAt\": \"TransferInput\",\n",
    "    \"States\": {\n",
    "        \"TransferInput\": {\n",
    "            \"Comment\": \"Transfer input data\",\n",
    "            \"Type\": \"Action\",\n",
    "            \"ActionUrl\": \"https://transfer.actions.globus.org/transfer\",\n",
    "            \"Parameters\": {\n",
    "                \"source_endpoint.$\": \"$.input.source.id\",\n",
    "                \"destination_endpoint.$\": \"$.input.destination.id\",\n",
    "                \"DATA\": [\n",
    "                    {\n",
    "                        \"source_path.$\": \"$.input.source.path\",\n",
    "                        \"destination_path.$\": \"$.input.destination.path\",\n",
    "                        \"recursive\": True,\n",
    "                    }\n",
    "                ]\n",
    "            },\n",
    "            \"ResultPath\": \"$.TransferFiles\",\n",
    "            \"WaitTime\": 300,\n",
    "            \"Next\": \"ProcessWXT\"\n",
    "        },\n",
    "        \"ProcessWXT\": {\n",
    "            \"Comment\": \"Collect WXT data from Sage\",\n",
    "            \"Type\": \"Action\",\n",
    "            \"ActionUrl\": \"https://compute.actions.globus.org/\",\n",
    "            \"Parameters\": {\n",
    "                \"endpoint.$\": \"$.input.compute_endpoint\",\n",
    "                \"function.$\": \"$.input.wxt_function\",\n",
    "                \"kwargs.$\": \"$.input.wxt_kwargs\"\n",
    "            },\n",
    "            \"ResultPath\": \"$.WXT_output\",\n",
    "            \"WaitTime\": 600,\n",
    "            \"Next\": \"ProcessAQT\"\n",
    "        },\n",
    "        \"ProcessAQT\": {\n",
    "            \"Comment\": \"Collect WXT data from Sage\",\n",
    "            \"Type\": \"Action\",\n",
    "            \"ActionUrl\": \"https://compute.actions.globus.org/\",\n",
    "            \"Parameters\": {\n",
    "                \"endpoint.$\": \"$.input.compute_endpoint\",\n",
    "                \"function.$\": \"$.input.aqt_function\",\n",
    "                \"kwargs.$\": \"$.input.aqt_kwargs\"\n",
    "            },\n",
    "            \"ResultPath\": \"$.AQT_output\",\n",
    "            \"WaitTime\": 600,\n",
    "            \"End\": True\n",
    "        },\n",
    "    }\n",
    "}"
   ]
  },
  {
   "cell_type": "code",
   "execution_count": 10,
   "id": "8d6de2bd-3302-4802-9d4e-c3685010d8f1",
   "metadata": {
    "scrolled": true,
    "tags": []
   },
   "outputs": [],
   "source": [
    "flow = flows_client.create_flow(title=\"CROCUS Flow\", definition=flow_definition, input_schema={})\n",
    "# flow = flows_client.update_flow(flow_id=flow_id, title=\"CROCUS Flow\", definition=flow_definition, input_schema={})"
   ]
  },
  {
   "cell_type": "code",
   "execution_count": 11,
   "id": "1d3eca30-ab8b-4952-8946-b6af3b0e30ff",
   "metadata": {
    "tags": []
   },
   "outputs": [],
   "source": [
    "flow_input = {\n",
    "    \"input\": {\n",
    "        \"source\": {\n",
    "            \"id\": \"03e6a23b-fb93-11ef-985b-0207be7ee3a1\",\n",
    "            \"path\": \"/Users/mgrover/git_repos/esgf-crocus-globus-flows/data\"\n",
    "        },\n",
    "        \"destination\": {\n",
    "            \"id\": \"7917c286-d1e5-40be-b33b-edd29f3a1448\",\n",
    "            \"path\": \"/projects/crocus/test-crocus-flows/\"\n",
    "        },\n",
    "        \"compute_endpoint\": compute_endpoint,\n",
    "        \"wxt_kwargs\": wxt_data,\n",
    "        \"wxt_function\": wxt_function,\n",
    "        \"aqt_kwargs\": aqt_data,\n",
    "        \"aqt_function\": aqt_function,\n",
    "    }\n",
    "}"
   ]
  },
  {
   "cell_type": "code",
   "execution_count": 12,
   "id": "7c882953-2c9d-43d8-b505-628527794328",
   "metadata": {
    "tags": []
   },
   "outputs": [
    {
     "data": {
      "text/plain": [
       "'874b34ae-2472-4792-96f9-00b7c0f7c858'"
      ]
     },
     "execution_count": 12,
     "metadata": {},
     "output_type": "execute_result"
    }
   ],
   "source": [
    "flow_id = flow['id']\n",
    "flow_id"
   ]
  },
  {
   "cell_type": "code",
   "execution_count": 13,
   "id": "79b01f90-2569-4eac-b6a7-3391fe4d1212",
   "metadata": {
    "tags": []
   },
   "outputs": [],
   "source": [
    "specific_flow_client = globus_sdk.SpecificFlowClient(\n",
    "    flow_id=flow_id,\n",
    "    app=my_app,\n",
    ")"
   ]
  },
  {
   "cell_type": "code",
   "execution_count": 14,
   "id": "6b821590-0b5b-43ec-aa4d-e4452e49aa20",
   "metadata": {
    "tags": []
   },
   "outputs": [
    {
     "name": "stdout",
     "output_type": "stream",
     "text": [
      "\n",
      "Please authenticate with Globus here:\n",
      "-------------------------------------\n",
      "https://auth.globus.org/v2/oauth2/authorize?client_id=c781864e-a9c9-482e-8db8-d58ac5962a86&redirect_uri=https%3A%2F%2Fauth.globus.org%2Fv2%2Fweb%2Fauth-code&scope=https%3A%2F%2Fauth.globus.org%2Fscopes%2Feec9b274-0c81-4334-bdc2-54e90e689b9a%2Fall+openid+https%3A%2F%2Fauth.globus.org%2Fscopes%2F874b34ae-2472-4792-96f9-00b7c0f7c858%2Fflow_874b34ae_2472_4792_96f9_00b7c0f7c858_user&state=_default&response_type=code&code_challenge=Ug0x4YDFB-JJUTxWfSq2biiowxXI4kuztMwa9H-FkiM&code_challenge_method=S256&access_type=online&prefill_named_grant=crocus-user-app+on+anlvpn090.evs.anl.gov\n",
      "-------------------------------------\n",
      "\n"
     ]
    },
    {
     "name": "stdin",
     "output_type": "stream",
     "text": [
      "Enter the resulting Authorization Code here:  0iF0RSxSReiidPsMpYGyfORbv5MXf5\n"
     ]
    }
   ],
   "source": [
    "run = specific_flow_client.run_flow(\n",
    "  body=flow_input,\n",
    "  label=\"CROCUS Example\",\n",
    "  tags=['CROCUS', 'example']\n",
    ")"
   ]
  },
  {
   "cell_type": "code",
   "execution_count": 15,
   "id": "5be02bf2-7eaa-424f-8bd2-ebfd77b985e8",
   "metadata": {
    "tags": []
   },
   "outputs": [
    {
     "name": "stdout",
     "output_type": "stream",
     "text": [
      "This flow can be monitored in the Web App:\n",
      "https://app.globus.org/runs/9cb1fab0-3744-4fa6-88f2-ae582c4e7468\n",
      "Flow run started with ID: 9cb1fab0-3744-4fa6-88f2-ae582c4e7468 - Status: ACTIVE\n",
      "Run status: INACTIVE\n",
      "{\n",
      "  \"run_id\": \"9cb1fab0-3744-4fa6-88f2-ae582c4e7468\",\n",
      "  \"action_id\": \"9cb1fab0-3744-4fa6-88f2-ae582c4e7468\",\n",
      "  \"flow_id\": \"874b34ae-2472-4792-96f9-00b7c0f7c858\",\n",
      "  \"flow_title\": \"CROCUS Flow\",\n",
      "  \"flow_last_updated\": \"2025-03-12T19:43:20.728549+00:00\",\n",
      "  \"start_time\": \"2025-03-12T19:44:48.030353+00:00\",\n",
      "  \"status\": \"INACTIVE\",\n",
      "  \"display_status\": \"INACTIVE\",\n",
      "  \"details\": {\n",
      "    \"code\": \"ConsentRequired\",\n",
      "    \"state_name\": \"TransferInput\",\n",
      "    \"description\": \"Flow run requires user intervention to proceed. For state 'TransferInput': Missing required data_access consent\",\n",
      "    \"required_scope\": \"https://auth.globus.org/scopes/874b34ae-2472-4792-96f9-00b7c0f7c858/flow_874b34ae_2472_4792_96f9_00b7c0f7c858_user[*urn:globus:auth:scope:transfer.api.globus.org:all[*https://auth.globus.org/scopes/7917c286-d1e5-40be-b33b-edd29f3a1448/data_access]]\",\n",
      "    \"action_statuses\": [\n",
      "      {\n",
      "        \"label\": null,\n",
      "        \"status\": \"INACTIVE\",\n",
      "        \"details\": {\n",
      "          \"code\": \"ConsentRequired\",\n",
      "          \"description\": \"Missing required data_access consent\",\n",
      "          \"required_scope\": \"urn:globus:auth:scope:transfer.api.globus.org:all[*https://auth.globus.org/scopes/7917c286-d1e5-40be-b33b-edd29f3a1448/data_access]\",\n",
      "          \"authorization_parameters\": {\n",
      "            \"required_scopes\": [\n",
      "              \"urn:globus:auth:scope:transfer.api.globus.org:all[*https://auth.globus.org/scopes/7917c286-d1e5-40be-b33b-edd29f3a1448/data_access]\"\n",
      "            ],\n",
      "            \"session_message\": \"Missing required data_access consent\"\n",
      "          }\n",
      "        },\n",
      "        \"action_id\": \"0ddc19fa-fa5d-47e3-8fcb-a2ac18af7be7\",\n",
      "        \"manage_by\": [],\n",
      "        \"creator_id\": \"urn:globus:auth:identity:85e67bd6-4b28-46e3-a2fd-3d046c6dafcf\",\n",
      "        \"monitor_by\": [],\n",
      "        \"start_time\": \"2025-03-12 19:44:49.130335+00:00\",\n",
      "        \"state_name\": \"TransferInput\",\n",
      "        \"release_after\": \"P30D\",\n",
      "        \"display_status\": \"INACTIVE\",\n",
      "        \"completion_time\": \"2025-03-12T19:44:49.130352+00:00\"\n",
      "      }\n",
      "    ],\n",
      "    \"authorization_parameters\": {\n",
      "      \"required_scopes\": [\n",
      "        \"https://auth.globus.org/scopes/874b34ae-2472-4792-96f9-00b7c0f7c858/flow_874b34ae_2472_4792_96f9_00b7c0f7c858_user[*urn:globus:auth:scope:transfer.api.globus.org:all[*https://auth.globus.org/scopes/7917c286-d1e5-40be-b33b-edd29f3a1448/data_access]]\"\n",
      "      ],\n",
      "      \"session_message\": \"Flow run requires user intervention to proceed. For state 'TransferInput': Missing required data_access consent\"\n",
      "    }\n",
      "  },\n",
      "  \"run_owner\": \"urn:globus:auth:identity:85e67bd6-4b28-46e3-a2fd-3d046c6dafcf\",\n",
      "  \"created_by\": \"urn:globus:auth:identity:85e67bd6-4b28-46e3-a2fd-3d046c6dafcf\",\n",
      "  \"run_managers\": [],\n",
      "  \"manage_by\": [],\n",
      "  \"run_monitors\": [],\n",
      "  \"monitor_by\": [],\n",
      "  \"user_role\": \"run_owner\",\n",
      "  \"label\": \"CROCUS Example\",\n",
      "  \"tags\": [\n",
      "    \"CROCUS\",\n",
      "    \"example\"\n",
      "  ]\n",
      "}\n"
     ]
    }
   ],
   "source": [
    "# Get run details\n",
    "# run = flows_client.get_run(run_id)\n",
    "\n",
    "run_id = run['run_id']\n",
    "run_status = run['status']\n",
    "print(\"This flow can be monitored in the Web App:\")\n",
    "print(f\"https://app.globus.org/runs/{run_id}\")\n",
    "print(f\"Flow run started with ID: {run_id} - Status: {run_status}\")\n",
    "\n",
    "# Poll the Flow ser/vice to check on the status of the flow\n",
    "while run_status == 'ACTIVE':\n",
    "    time.sleep(5)\n",
    "    run = flows_client.get_run(run_id)\n",
    "    run_status = run['status']\n",
    "    print(f'Run status: {run_status}')\n",
    "    \n",
    "# Run completed\n",
    "print(json.dumps(run.data, indent=2))"
   ]
  },
  {
   "cell_type": "markdown",
   "id": "8f3c1b4d-af1f-454a-9d69-71b7a4f08503",
   "metadata": {},
   "source": [
    "# Add an input schema\n",
    "\n",
    "This gives us the \"Start\" button on the flows GUI."
   ]
  },
  {
   "cell_type": "code",
   "execution_count": 16,
   "id": "11cc6f3c-1c80-4303-9119-07f9b46a0ff9",
   "metadata": {
    "tags": []
   },
   "outputs": [],
   "source": [
    "input_schema = {\n",
    "    \"required\": [\n",
    "        \"input\"\n",
    "    ],\n",
    "    \"properties\": {\n",
    "        \"input\": {\n",
    "            \"type\": \"object\",\n",
    "            \"required\": [\n",
    "                \"source\",\n",
    "                \"destination\",\n",
    "                \"compute_endpoint\",\n",
    "                \"wxt_function\",\n",
    "                \"wxt_kwargs\",\n",
    "                \"aqt_function\",\n",
    "                \"aqt_kwargs\"\n",
    "            ],\n",
    "            \"properties\": {\n",
    "                \"source\": {\n",
    "                    \"type\": \"object\",\n",
    "                    \"title\": \"Select source collection and path\",\n",
    "                    \"description\": \"The source collection and path (path MUST end with a slash)\",\n",
    "                    \"format\": \"globus-collection\",\n",
    "                    \"required\": [\n",
    "                        \"id\",\n",
    "                        \"path\"\n",
    "                    ],\n",
    "                    \"properties\": {\n",
    "                        \"id\": {\n",
    "                            \"type\": \"string\",\n",
    "                            \"format\": \"uuid\"\n",
    "                        },\n",
    "                        \"path\": {\n",
    "                            \"type\": \"string\"\n",
    "                        }\n",
    "                    },\n",
    "                    \"additionalProperties\": False\n",
    "                },\n",
    "                \"destination\": {\n",
    "                    \"type\": \"object\",\n",
    "                    \"title\": \"Select destination collection and path\",\n",
    "                    \"description\": \"The destination collection and path (path MUST end with a slash); default collection is 'Globus Tutorials on ALCF Eagle'\",\n",
    "                    \"format\": \"globus-collection\",\n",
    "                    \"required\": [\n",
    "                        \"id\",\n",
    "                        \"path\"\n",
    "                    ],\n",
    "                    \"properties\": {\n",
    "                        \"id\": {\n",
    "                            \"type\": \"string\",\n",
    "                            \"format\": \"uuid\"\n",
    "                        },\n",
    "                        \"path\": {\n",
    "                            \"type\": \"string\"\n",
    "                        }\n",
    "                    },\n",
    "                    \"additionalProperties\": False\n",
    "                },\n",
    "                \"compute_endpoint\": {\n",
    "                    \"type\": \"string\",\n",
    "                    \"format\": \"uuid\",\n",
    "                    \"default\": compute_endpoint,\n",
    "                    \"title\": \"Globus Compute Endpoint ID\",\n",
    "                    \"description\": \"The UUID of the Globus Compute endpoint where the function will run\"\n",
    "                },\n",
    "                \"wxt_function\": {\n",
    "                    \"type\": \"string\",\n",
    "                    \"format\": \"uuid\",\n",
    "                    \"default\": wxt_function,\n",
    "                    \"title\": \"Globus Compute Function ID\",\n",
    "                    \"description\": \"The UUID of the function to invoke; must be registered with the Globus Compute service\"\n",
    "                },\n",
    "                \"wxt_kwargs\": {\n",
    "                    \"type\": \"object\",\n",
    "                    \"title\": \"Function Inputs\",\n",
    "                    \"description\": \"Inputs to pass to the function\",\n",
    "                    \"properties\":  {\n",
    "                        \"ndays\": {\n",
    "                            \"type\": \"integer\",\n",
    "                            \"default\": 1\n",
    "                        },\n",
    "                        \"y\": {\n",
    "                            \"type\": \"integer\",\n",
    "                            \"default\": 2024\n",
    "                        },\n",
    "                        \"m\": {\n",
    "                            \"type\": \"integer\",\n",
    "                            \"default\": 8\n",
    "                        },\n",
    "                        \"d\": {\n",
    "                            \"type\": \"integer\",\n",
    "                            \"default\": 1\n",
    "                        },\n",
    "                        \"site\": {\n",
    "                            \"type\": \"string\",\n",
    "                            \"default\": \"NU\"\n",
    "                        },\n",
    "                        \"hours\": {\n",
    "                            \"type\": \"integer\",\n",
    "                            \"default\": 1\n",
    "                        },\n",
    "                        \"odir\": {\n",
    "                            \"type\": \"string\",\n",
    "                            \"default\": \"/home/rchard/src/CROCUS/output/\"\n",
    "                        },\n",
    "                    },\n",
    "                    \"additionalProperties\": False\n",
    "                },\n",
    "                \"aqt_function\": {\n",
    "                    \"type\": \"string\",\n",
    "                    \"format\": \"uuid\",\n",
    "                    \"default\": aqt_function,\n",
    "                    \"title\": \"Globus Compute Function ID\",\n",
    "                    \"description\": \"The UUID of the function to invoke; must be registered with the Globus Compute service\"\n",
    "                },\n",
    "                \"aqt_kwargs\": {\n",
    "                    \"type\": \"object\",\n",
    "                    \"title\": \"Function Inputs\",\n",
    "                    \"description\": \"Inputs to pass to the function\",\n",
    "                    \"properties\":  {\n",
    "                        \"ndays\": {\n",
    "                            \"type\": \"integer\",\n",
    "                            \"default\": 1\n",
    "                        },\n",
    "                        \"y\": {\n",
    "                            \"type\": \"integer\",\n",
    "                            \"default\": 2024\n",
    "                        },\n",
    "                        \"m\": {\n",
    "                            \"type\": \"integer\",\n",
    "                            \"default\": 8\n",
    "                        },\n",
    "                        \"d\": {\n",
    "                            \"type\": \"integer\",\n",
    "                            \"default\": 1\n",
    "                        },\n",
    "                        \"site\": {\n",
    "                            \"type\": \"string\",\n",
    "                            \"default\": \"NU\"\n",
    "                        },\n",
    "                        \"hours\": {\n",
    "                            \"type\": \"integer\",\n",
    "                            \"default\": 1\n",
    "                        },\n",
    "                        \"odir\": {\n",
    "                            \"type\": \"string\",\n",
    "                            \"default\": \"/home/rchard/src/CROCUS/output/\"\n",
    "                        },\n",
    "                    },\n",
    "                    \"additionalProperties\": False\n",
    "                }\n",
    "            },\n",
    "            \"additionalProperties\": False\n",
    "        }\n",
    "    },\n",
    "    \"additionalProperties\": False\n",
    "}"
   ]
  },
  {
   "cell_type": "code",
   "execution_count": 17,
   "id": "977f2ab3-6343-4c4c-a5ab-3cc9c73cc429",
   "metadata": {
    "tags": []
   },
   "outputs": [],
   "source": [
    "flow = flows_client.update_flow(flow_id=flow_id, title=\"CROCUS Flow\", definition=flow_definition, input_schema=input_schema)"
   ]
  },
  {
   "cell_type": "markdown",
   "id": "6697cb73-8a5e-4663-b904-be111249516c",
   "metadata": {},
   "source": [
    "# Configure a Timer\n",
    "\n",
    "This will automate the invocation of the flow each day."
   ]
  },
  {
   "cell_type": "code",
   "execution_count": 29,
   "id": "4f2735f8-6902-4a2a-877d-6879dc3a2bec",
   "metadata": {
    "tags": []
   },
   "outputs": [],
   "source": [
    "from globus_sdk.scopes import TimerScopes, FlowsScopes\n",
    "from globus_sdk import TimerClient"
   ]
  },
  {
   "cell_type": "code",
   "execution_count": 30,
   "id": "d4e2bca0-b2b5-44ce-aa18-1a66c4088e1b",
   "metadata": {
    "tags": []
   },
   "outputs": [],
   "source": [
    "flow_scope = specific_flow_client.scopes.user\n",
    "end_scope = f\"{TimerScopes.timer}[{flow_scope}]\"\n",
    "\n",
    "timer_client = TimerClient(app=my_app, app_scopes=end_scope)"
   ]
  },
  {
   "cell_type": "code",
   "execution_count": 31,
   "id": "31180635-e2a8-4e17-897b-828cdf9a68de",
   "metadata": {
    "tags": []
   },
   "outputs": [],
   "source": [
    "callback_url = slash_join(specific_flow_client.base_url, f\"/flows/{flow_id}/run\")"
   ]
  },
  {
   "cell_type": "markdown",
   "id": "1564e457-c1c1-4163-b995-ac87ccb9183c",
   "metadata": {},
   "source": [
    "Remove the Y/M/D fields so the flow runs for the current date."
   ]
  },
  {
   "cell_type": "code",
   "execution_count": 25,
   "id": "e4503931-bb1b-4f3a-9d2e-2869ffc62232",
   "metadata": {
    "tags": []
   },
   "outputs": [],
   "source": [
    "timer_input = {\n",
    "    'input': {\n",
    "        'source': \n",
    "        {\n",
    "            'id': '6c54cade-bde5-45c1-bdea-f4bd71dba2cc',\n",
    "            'path': '/home/share/godata/'\n",
    "        },\n",
    "        'destination': {\n",
    "            'id': '31ce9ba0-176d-45a5-add3-f37d233ba47d',\n",
    "            'path': '/~/test/'\n",
    "        },\n",
    "        'compute_endpoint': compute_endpoint,\n",
    "        'wxt_kwargs': {\n",
    "            'ndays': 1,\n",
    "            'site': 'NU',\n",
    "            'hours': 1,\n",
    "            'odir': '/home/rchard/src/CROCUS/output/'\n",
    "        },\n",
    "        'wxt_function': wxt_function,\n",
    "        'aqt_kwargs': {\n",
    "            'ndays': 1,\n",
    "            'site': 'NU',\n",
    "            'hours': 1,\n",
    "            'odir': '/home/rchard/src/CROCUS/output/'\n",
    "        },\n",
    "        'aqt_function': aqt_function,\n",
    "    }\n",
    "}"
   ]
  },
  {
   "cell_type": "code",
   "execution_count": null,
   "id": "d1374f46-e15d-44a9-80a3-a52b5e529322",
   "metadata": {
    "tags": []
   },
   "outputs": [],
   "source": [
    "timer = TimerJob(\n",
    "    callback_url=callback_url,\n",
    "    callback_body={\"body\": timer_input, \"label\": \"CROCUS Timer Flow\"},\n",
    "    start=datetime.datetime.utcnow(),\n",
    "    interval=datetime.timedelta(seconds=300),\n",
    "    scope=flow_scope,\n",
    "    name=\"CROCUS Flow Timer\",\n",
    ")"
   ]
  },
  {
   "cell_type": "code",
   "execution_count": null,
   "id": "bcfcd69a-7ce1-4a36-8205-9bc285ec2696",
   "metadata": {
    "tags": []
   },
   "outputs": [],
   "source": [
    "response = timer_client.create_job(timer)"
   ]
  },
  {
   "cell_type": "code",
   "execution_count": null,
   "id": "59842ea9-0716-49ed-9d67-470e84e9aeec",
   "metadata": {
    "tags": []
   },
   "outputs": [],
   "source": [
    "response"
   ]
  },
  {
   "cell_type": "code",
   "execution_count": null,
   "id": "fdba5e40-b914-43b8-b026-7f98f3af1660",
   "metadata": {
    "tags": []
   },
   "outputs": [],
   "source": [
    "timer_client.get_job(response.get('job_id')).data"
   ]
  },
  {
   "cell_type": "markdown",
   "id": "de3ba71f-bb21-4c89-879c-19dd9a7e687e",
   "metadata": {},
   "source": [
    "## Delete the timer"
   ]
  },
  {
   "cell_type": "code",
   "execution_count": null,
   "id": "9205307c-a9b6-4c4c-ad15-0d45752c4080",
   "metadata": {},
   "outputs": [],
   "source": [
    "timer_client.delete_job(response.get('job_id'))"
   ]
  },
  {
   "cell_type": "markdown",
   "id": "322b925d-4c73-4e11-bfb4-fc03ce03acfa",
   "metadata": {},
   "source": [
    "## Run the Timer for All Sites"
   ]
  },
  {
   "cell_type": "code",
   "execution_count": 32,
   "id": "bcf305ec-3411-4f94-807a-e69c98ab30c8",
   "metadata": {
    "tags": []
   },
   "outputs": [],
   "source": [
    "def create_timer_for_site(site):\n",
    "    timer_input = {\n",
    "    'input': {\n",
    "        'source': \n",
    "        {\n",
    "            'id': '6c54cade-bde5-45c1-bdea-f4bd71dba2cc',\n",
    "            'path': '/home/share/godata/'\n",
    "        },\n",
    "        'destination': {\n",
    "            'id': '31ce9ba0-176d-45a5-add3-f37d233ba47d',\n",
    "            'path': '/~/test/'\n",
    "        },\n",
    "        'compute_endpoint': compute_endpoint,\n",
    "        'wxt_kwargs': {\n",
    "            'ndays': 1,\n",
    "            'site': site,\n",
    "            'hours': 1,\n",
    "            'odir': '/home/rchard/src/CROCUS/output/'\n",
    "        },\n",
    "        'wxt_function': wxt_function,\n",
    "        'aqt_kwargs': {\n",
    "            'ndays': 1,\n",
    "            'site': site,\n",
    "            'hours': 1,\n",
    "            'odir': '/home/rchard/src/CROCUS/output/'\n",
    "        },\n",
    "        'aqt_function': aqt_function,\n",
    "    }\n",
    "    }\n",
    "    return timer_input"
   ]
  },
  {
   "cell_type": "code",
   "execution_count": 33,
   "id": "f270a8c0-be16-4035-9674-b845b964c051",
   "metadata": {
    "tags": []
   },
   "outputs": [],
   "source": [
    "global_sites = ['NU',\n",
    "                'CSU',\n",
    "                'NEIU',\n",
    "                'ATMOS',\n",
    "                'UIC',\n",
    "                'NEIU_CCICS',\n",
    "                \"BIG\",\n",
    "                'HUM',\n",
    "                \"DOWN\",\n",
    "                \"SHEDD\"]"
   ]
  },
  {
   "cell_type": "code",
   "execution_count": 34,
   "id": "5070863a-0b72-45c8-b077-96ec9dcca5a1",
   "metadata": {
    "tags": []
   },
   "outputs": [
    {
     "name": "stdout",
     "output_type": "stream",
     "text": [
      "\n",
      "Please authenticate with Globus here:\n",
      "-------------------------------------\n",
      "https://auth.globus.org/v2/oauth2/authorize?client_id=c781864e-a9c9-482e-8db8-d58ac5962a86&redirect_uri=https%3A%2F%2Fauth.globus.org%2Fv2%2Fweb%2Fauth-code&scope=https%3A%2F%2Fauth.globus.org%2Fscopes%2F524230d7-ea86-4a52-8312-86065a9e0417%2Ftimer%5Bhttps%3A%2F%2Fauth.globus.org%2Fscopes%2F874b34ae-2472-4792-96f9-00b7c0f7c858%2Fflow_874b34ae_2472_4792_96f9_00b7c0f7c858_user%5D+https%3A%2F%2Fauth.globus.org%2Fscopes%2Feec9b274-0c81-4334-bdc2-54e90e689b9a%2Fall+openid+https%3A%2F%2Fauth.globus.org%2Fscopes%2F874b34ae-2472-4792-96f9-00b7c0f7c858%2Fflow_874b34ae_2472_4792_96f9_00b7c0f7c858_user&state=_default&response_type=code&code_challenge=Q1SwO1r7Wpyw9XnkSpfJxnsZmjJIlYfGpfWCY_M1kes&code_challenge_method=S256&access_type=online&prefill_named_grant=crocus-user-app+on+anlvpn090.evs.anl.gov\n",
      "-------------------------------------\n",
      "\n"
     ]
    },
    {
     "name": "stdin",
     "output_type": "stream",
     "text": [
      "Enter the resulting Authorization Code here:  vKh5q8Qnw0FmZk7NtpEUEkgsMeDoKR\n"
     ]
    },
    {
     "name": "stdout",
     "output_type": "stream",
     "text": [
      "{'name': 'CROCUS Flow Timer NU', 'stop_after': None, 'interval': 300.0, 'scope': 'https://auth.globus.org/scopes/874b34ae-2472-4792-96f9-00b7c0f7c858/flow_874b34ae_2472_4792_96f9_00b7c0f7c858_user', 'callback_url': 'https://flows.automate.globus.org/flows/874b34ae-2472-4792-96f9-00b7c0f7c858/run', 'callback_body': {'body': {'input': {'source': {'id': '6c54cade-bde5-45c1-bdea-f4bd71dba2cc', 'path': '/home/share/godata/'}, 'destination': {'id': '31ce9ba0-176d-45a5-add3-f37d233ba47d', 'path': '/~/test/'}, 'compute_endpoint': '04551444-f53f-4629-ab58-fdfcad88ce93', 'wxt_kwargs': {'ndays': 1, 'site': 'NU', 'hours': 1, 'odir': '/home/rchard/src/CROCUS/output/'}, 'wxt_function': 'b4930dc7-6c35-4cdc-910d-82765073b706', 'aqt_kwargs': {'ndays': 1, 'site': 'NU', 'hours': 1, 'odir': '/home/rchard/src/CROCUS/output/'}, 'aqt_function': '1c4aea51-52a0-4235-a5d2-cff872abc001'}}, 'label': 'CROCUS Timer Flow NU'}, 'start': '2025-03-12T20:04:07+00:00', 'inactive_reason': None, 'job_id': 'd6f1f5c9-18c9-4c2b-bb7b-a483d03be6b7', 'status': 'loaded', 'submitted_at': '2025-03-12T20:04:21+00:00', 'last_ran_at': None, 'next_run': '2025-03-12T20:04:07+00:00', 'n_runs': 0, 'n_errors': 0, 'results': {'data': [], 'page_next': None}, 'schedule': {'type': 'recurring', 'interval_seconds': 300, 'start': '2025-03-12T20:04:07+00:00', 'end': None}}\n",
      "{'name': 'CROCUS Flow Timer CSU', 'stop_after': None, 'interval': 300.0, 'scope': 'https://auth.globus.org/scopes/874b34ae-2472-4792-96f9-00b7c0f7c858/flow_874b34ae_2472_4792_96f9_00b7c0f7c858_user', 'callback_url': 'https://flows.automate.globus.org/flows/874b34ae-2472-4792-96f9-00b7c0f7c858/run', 'callback_body': {'body': {'input': {'source': {'id': '6c54cade-bde5-45c1-bdea-f4bd71dba2cc', 'path': '/home/share/godata/'}, 'destination': {'id': '31ce9ba0-176d-45a5-add3-f37d233ba47d', 'path': '/~/test/'}, 'compute_endpoint': '04551444-f53f-4629-ab58-fdfcad88ce93', 'wxt_kwargs': {'ndays': 1, 'site': 'CSU', 'hours': 1, 'odir': '/home/rchard/src/CROCUS/output/'}, 'wxt_function': 'b4930dc7-6c35-4cdc-910d-82765073b706', 'aqt_kwargs': {'ndays': 1, 'site': 'CSU', 'hours': 1, 'odir': '/home/rchard/src/CROCUS/output/'}, 'aqt_function': '1c4aea51-52a0-4235-a5d2-cff872abc001'}}, 'label': 'CROCUS Timer Flow CSU'}, 'start': '2025-03-12T20:04:21+00:00', 'inactive_reason': None, 'job_id': '2ab767b3-0ebb-4da3-b3a1-40fcb8d32760', 'status': 'loaded', 'submitted_at': '2025-03-12T20:04:22+00:00', 'last_ran_at': None, 'next_run': '2025-03-12T20:04:21+00:00', 'n_runs': 0, 'n_errors': 0, 'results': {'data': [], 'page_next': None}, 'schedule': {'type': 'recurring', 'interval_seconds': 300, 'start': '2025-03-12T20:04:21+00:00', 'end': None}}\n",
      "{'name': 'CROCUS Flow Timer NEIU', 'stop_after': None, 'interval': 300.0, 'scope': 'https://auth.globus.org/scopes/874b34ae-2472-4792-96f9-00b7c0f7c858/flow_874b34ae_2472_4792_96f9_00b7c0f7c858_user', 'callback_url': 'https://flows.automate.globus.org/flows/874b34ae-2472-4792-96f9-00b7c0f7c858/run', 'callback_body': {'body': {'input': {'source': {'id': '6c54cade-bde5-45c1-bdea-f4bd71dba2cc', 'path': '/home/share/godata/'}, 'destination': {'id': '31ce9ba0-176d-45a5-add3-f37d233ba47d', 'path': '/~/test/'}, 'compute_endpoint': '04551444-f53f-4629-ab58-fdfcad88ce93', 'wxt_kwargs': {'ndays': 1, 'site': 'NEIU', 'hours': 1, 'odir': '/home/rchard/src/CROCUS/output/'}, 'wxt_function': 'b4930dc7-6c35-4cdc-910d-82765073b706', 'aqt_kwargs': {'ndays': 1, 'site': 'NEIU', 'hours': 1, 'odir': '/home/rchard/src/CROCUS/output/'}, 'aqt_function': '1c4aea51-52a0-4235-a5d2-cff872abc001'}}, 'label': 'CROCUS Timer Flow NEIU'}, 'start': '2025-03-12T20:04:22+00:00', 'inactive_reason': None, 'job_id': 'c9c78c17-094e-4de2-be5d-f511bfaf1d19', 'status': 'loaded', 'submitted_at': '2025-03-12T20:04:22+00:00', 'last_ran_at': None, 'next_run': '2025-03-12T20:04:22+00:00', 'n_runs': 0, 'n_errors': 0, 'results': {'data': [], 'page_next': None}, 'schedule': {'type': 'recurring', 'interval_seconds': 300, 'start': '2025-03-12T20:04:22+00:00', 'end': None}}\n",
      "{'name': 'CROCUS Flow Timer ATMOS', 'stop_after': None, 'interval': 300.0, 'scope': 'https://auth.globus.org/scopes/874b34ae-2472-4792-96f9-00b7c0f7c858/flow_874b34ae_2472_4792_96f9_00b7c0f7c858_user', 'callback_url': 'https://flows.automate.globus.org/flows/874b34ae-2472-4792-96f9-00b7c0f7c858/run', 'callback_body': {'body': {'input': {'source': {'id': '6c54cade-bde5-45c1-bdea-f4bd71dba2cc', 'path': '/home/share/godata/'}, 'destination': {'id': '31ce9ba0-176d-45a5-add3-f37d233ba47d', 'path': '/~/test/'}, 'compute_endpoint': '04551444-f53f-4629-ab58-fdfcad88ce93', 'wxt_kwargs': {'ndays': 1, 'site': 'ATMOS', 'hours': 1, 'odir': '/home/rchard/src/CROCUS/output/'}, 'wxt_function': 'b4930dc7-6c35-4cdc-910d-82765073b706', 'aqt_kwargs': {'ndays': 1, 'site': 'ATMOS', 'hours': 1, 'odir': '/home/rchard/src/CROCUS/output/'}, 'aqt_function': '1c4aea51-52a0-4235-a5d2-cff872abc001'}}, 'label': 'CROCUS Timer Flow ATMOS'}, 'start': '2025-03-12T20:04:22+00:00', 'inactive_reason': None, 'job_id': 'bdb7b8fa-b94d-475d-8015-0386ce737ab2', 'status': 'loaded', 'submitted_at': '2025-03-12T20:04:23+00:00', 'last_ran_at': None, 'next_run': '2025-03-12T20:04:22+00:00', 'n_runs': 0, 'n_errors': 0, 'results': {'data': [], 'page_next': None}, 'schedule': {'type': 'recurring', 'interval_seconds': 300, 'start': '2025-03-12T20:04:22+00:00', 'end': None}}\n"
     ]
    },
    {
     "ename": "TimersAPIError",
     "evalue": "('POST', 'https://timer.automate.globus.org/jobs/', 'Bearer', 400, 'JOB_RATE_LIMIT', 'new job would exceed limit of 1 average job execution(s) per minute; remove jobs with shorter intervals/more frequent execution to free up allocation')",
     "output_type": "error",
     "traceback": [
      "\u001b[0;31m---------------------------------------------------------------------------\u001b[0m",
      "\u001b[0;31mTimersAPIError\u001b[0m                            Traceback (most recent call last)",
      "Cell \u001b[0;32mIn[34], line 12\u001b[0m\n\u001b[1;32m      3\u001b[0m flow_input \u001b[38;5;241m=\u001b[39m create_timer_for_site(site)\n\u001b[1;32m      4\u001b[0m timer \u001b[38;5;241m=\u001b[39m TimerJob(\n\u001b[1;32m      5\u001b[0m     callback_url\u001b[38;5;241m=\u001b[39mcallback_url,\n\u001b[1;32m      6\u001b[0m     callback_body\u001b[38;5;241m=\u001b[39m{\u001b[38;5;124m\"\u001b[39m\u001b[38;5;124mbody\u001b[39m\u001b[38;5;124m\"\u001b[39m: flow_input, \u001b[38;5;124m\"\u001b[39m\u001b[38;5;124mlabel\u001b[39m\u001b[38;5;124m\"\u001b[39m: \u001b[38;5;124mf\u001b[39m\u001b[38;5;124m\"\u001b[39m\u001b[38;5;124mCROCUS Timer Flow \u001b[39m\u001b[38;5;132;01m{\u001b[39;00msite\u001b[38;5;132;01m}\u001b[39;00m\u001b[38;5;124m\"\u001b[39m},\n\u001b[0;32m   (...)\u001b[0m\n\u001b[1;32m     10\u001b[0m     name\u001b[38;5;241m=\u001b[39m\u001b[38;5;124mf\u001b[39m\u001b[38;5;124m\"\u001b[39m\u001b[38;5;124mCROCUS Flow Timer \u001b[39m\u001b[38;5;132;01m{\u001b[39;00msite\u001b[38;5;132;01m}\u001b[39;00m\u001b[38;5;124m\"\u001b[39m,\n\u001b[1;32m     11\u001b[0m )\n\u001b[0;32m---> 12\u001b[0m response \u001b[38;5;241m=\u001b[39m \u001b[43mtimer_client\u001b[49m\u001b[38;5;241;43m.\u001b[39;49m\u001b[43mcreate_job\u001b[49m\u001b[43m(\u001b[49m\u001b[43mtimer\u001b[49m\u001b[43m)\u001b[49m\n\u001b[1;32m     13\u001b[0m job_id \u001b[38;5;241m=\u001b[39m timer_client\u001b[38;5;241m.\u001b[39mget_job(response\u001b[38;5;241m.\u001b[39mget(\u001b[38;5;124m'\u001b[39m\u001b[38;5;124mjob_id\u001b[39m\u001b[38;5;124m'\u001b[39m))\u001b[38;5;241m.\u001b[39mdata\n\u001b[1;32m     14\u001b[0m \u001b[38;5;28mprint\u001b[39m(job_id)\n",
      "File \u001b[0;32m~/mambaforge/envs/esgf-crocus/lib/python3.10/site-packages/globus_sdk/services/timers/client.py:212\u001b[0m, in \u001b[0;36mTimersClient.create_job\u001b[0;34m(self, data)\u001b[0m\n\u001b[1;32m    207\u001b[0m     \u001b[38;5;28;01mraise\u001b[39;00m exc\u001b[38;5;241m.\u001b[39mGlobusSDKUsageError(\n\u001b[1;32m    208\u001b[0m         \u001b[38;5;124m\"\u001b[39m\u001b[38;5;124mCannot pass a TransferTimer to create_job(). Use create_timer() \u001b[39m\u001b[38;5;124m\"\u001b[39m\n\u001b[1;32m    209\u001b[0m         \u001b[38;5;124m\"\u001b[39m\u001b[38;5;124minstead.\u001b[39m\u001b[38;5;124m\"\u001b[39m\n\u001b[1;32m    210\u001b[0m     )\n\u001b[1;32m    211\u001b[0m log\u001b[38;5;241m.\u001b[39minfo(\u001b[38;5;124mf\u001b[39m\u001b[38;5;124m\"\u001b[39m\u001b[38;5;124mTimersClient.create_job(\u001b[39m\u001b[38;5;132;01m{\u001b[39;00mdata\u001b[38;5;132;01m}\u001b[39;00m\u001b[38;5;124m)\u001b[39m\u001b[38;5;124m\"\u001b[39m)\n\u001b[0;32m--> 212\u001b[0m \u001b[38;5;28;01mreturn\u001b[39;00m \u001b[38;5;28;43mself\u001b[39;49m\u001b[38;5;241;43m.\u001b[39;49m\u001b[43mpost\u001b[49m\u001b[43m(\u001b[49m\u001b[38;5;124;43m\"\u001b[39;49m\u001b[38;5;124;43m/jobs/\u001b[39;49m\u001b[38;5;124;43m\"\u001b[39;49m\u001b[43m,\u001b[49m\u001b[43m \u001b[49m\u001b[43mdata\u001b[49m\u001b[38;5;241;43m=\u001b[39;49m\u001b[43mdata\u001b[49m\u001b[43m)\u001b[49m\n",
      "File \u001b[0;32m~/mambaforge/envs/esgf-crocus/lib/python3.10/site-packages/globus_sdk/client.py:297\u001b[0m, in \u001b[0;36mBaseClient.post\u001b[0;34m(self, path, query_params, data, headers, encoding, automatic_authorization)\u001b[0m\n\u001b[1;32m    291\u001b[0m \u001b[38;5;250m\u001b[39m\u001b[38;5;124;03m\"\"\"\u001b[39;00m\n\u001b[1;32m    292\u001b[0m \u001b[38;5;124;03mMake a POST request to the specified path.\u001b[39;00m\n\u001b[1;32m    293\u001b[0m \n\u001b[1;32m    294\u001b[0m \u001b[38;5;124;03mSee :py:meth:`~.BaseClient.request` for details on the various parameters.\u001b[39;00m\n\u001b[1;32m    295\u001b[0m \u001b[38;5;124;03m\"\"\"\u001b[39;00m\n\u001b[1;32m    296\u001b[0m log\u001b[38;5;241m.\u001b[39mdebug(\u001b[38;5;124mf\u001b[39m\u001b[38;5;124m\"\u001b[39m\u001b[38;5;124mPOST to \u001b[39m\u001b[38;5;132;01m{\u001b[39;00mpath\u001b[38;5;132;01m}\u001b[39;00m\u001b[38;5;124m with query_params \u001b[39m\u001b[38;5;132;01m{\u001b[39;00mquery_params\u001b[38;5;132;01m}\u001b[39;00m\u001b[38;5;124m\"\u001b[39m)\n\u001b[0;32m--> 297\u001b[0m \u001b[38;5;28;01mreturn\u001b[39;00m \u001b[38;5;28;43mself\u001b[39;49m\u001b[38;5;241;43m.\u001b[39;49m\u001b[43mrequest\u001b[49m\u001b[43m(\u001b[49m\n\u001b[1;32m    298\u001b[0m \u001b[43m    \u001b[49m\u001b[38;5;124;43m\"\u001b[39;49m\u001b[38;5;124;43mPOST\u001b[39;49m\u001b[38;5;124;43m\"\u001b[39;49m\u001b[43m,\u001b[49m\n\u001b[1;32m    299\u001b[0m \u001b[43m    \u001b[49m\u001b[43mpath\u001b[49m\u001b[43m,\u001b[49m\n\u001b[1;32m    300\u001b[0m \u001b[43m    \u001b[49m\u001b[43mquery_params\u001b[49m\u001b[38;5;241;43m=\u001b[39;49m\u001b[43mquery_params\u001b[49m\u001b[43m,\u001b[49m\n\u001b[1;32m    301\u001b[0m \u001b[43m    \u001b[49m\u001b[43mdata\u001b[49m\u001b[38;5;241;43m=\u001b[39;49m\u001b[43mdata\u001b[49m\u001b[43m,\u001b[49m\n\u001b[1;32m    302\u001b[0m \u001b[43m    \u001b[49m\u001b[43mheaders\u001b[49m\u001b[38;5;241;43m=\u001b[39;49m\u001b[43mheaders\u001b[49m\u001b[43m,\u001b[49m\n\u001b[1;32m    303\u001b[0m \u001b[43m    \u001b[49m\u001b[43mencoding\u001b[49m\u001b[38;5;241;43m=\u001b[39;49m\u001b[43mencoding\u001b[49m\u001b[43m,\u001b[49m\n\u001b[1;32m    304\u001b[0m \u001b[43m    \u001b[49m\u001b[43mautomatic_authorization\u001b[49m\u001b[38;5;241;43m=\u001b[39;49m\u001b[43mautomatic_authorization\u001b[49m\u001b[43m,\u001b[49m\n\u001b[1;32m    305\u001b[0m \u001b[43m\u001b[49m\u001b[43m)\u001b[49m\n",
      "File \u001b[0;32m~/mambaforge/envs/esgf-crocus/lib/python3.10/site-packages/globus_sdk/client.py:461\u001b[0m, in \u001b[0;36mBaseClient.request\u001b[0;34m(self, method, path, query_params, data, headers, encoding, allow_redirects, stream, automatic_authorization)\u001b[0m\n\u001b[1;32m    458\u001b[0m     \u001b[38;5;28;01mreturn\u001b[39;00m GlobusHTTPResponse(r, \u001b[38;5;28mself\u001b[39m)\n\u001b[1;32m    460\u001b[0m log\u001b[38;5;241m.\u001b[39mdebug(\u001b[38;5;124mf\u001b[39m\u001b[38;5;124m\"\u001b[39m\u001b[38;5;124mrequest completed with (error) response code: \u001b[39m\u001b[38;5;132;01m{\u001b[39;00mr\u001b[38;5;241m.\u001b[39mstatus_code\u001b[38;5;132;01m}\u001b[39;00m\u001b[38;5;124m\"\u001b[39m)\n\u001b[0;32m--> 461\u001b[0m \u001b[38;5;28;01mraise\u001b[39;00m \u001b[38;5;28mself\u001b[39m\u001b[38;5;241m.\u001b[39merror_class(r)\n",
      "\u001b[0;31mTimersAPIError\u001b[0m: ('POST', 'https://timer.automate.globus.org/jobs/', 'Bearer', 400, 'JOB_RATE_LIMIT', 'new job would exceed limit of 1 average job execution(s) per minute; remove jobs with shorter intervals/more frequent execution to free up allocation')"
     ]
    }
   ],
   "source": [
    "jobs = []\n",
    "for site in global_sites:\n",
    "    flow_input = create_timer_for_site(site)\n",
    "    timer = TimerJob(\n",
    "        callback_url=callback_url,\n",
    "        callback_body={\"body\": flow_input, \"label\": f\"CROCUS Timer Flow {site}\"},\n",
    "        start=datetime.datetime.utcnow(),\n",
    "        interval=datetime.timedelta(seconds=300),\n",
    "        scope=flow_scope,\n",
    "        name=f\"CROCUS Flow Timer {site}\",\n",
    "    )\n",
    "    response = timer_client.create_job(timer)\n",
    "    job_id = timer_client.get_job(response.get('job_id')).data\n",
    "    print(job_id)\n",
    "    jobs.append(job_id)"
   ]
  },
  {
   "cell_type": "code",
   "execution_count": null,
   "id": "b90f10be-2f57-4d46-ac8b-fd2ee9bc8155",
   "metadata": {},
   "outputs": [],
   "source": []
  }
 ],
 "metadata": {
  "kernelspec": {
   "display_name": "Python 3 (ipykernel)",
   "language": "python",
   "name": "python3"
  },
  "language_info": {
   "codemirror_mode": {
    "name": "ipython",
    "version": 3
   },
   "file_extension": ".py",
   "mimetype": "text/x-python",
   "name": "python",
   "nbconvert_exporter": "python",
   "pygments_lexer": "ipython3",
   "version": "3.10.16"
  }
 },
 "nbformat": 4,
 "nbformat_minor": 5
}
